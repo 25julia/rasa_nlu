{
 "cells": [
  {
   "cell_type": "markdown",
   "metadata": {},
   "source": [
    "This file implements the `intent_2_stage` out-of-scope intent handling by adding the `stage 1` (ie. binary) classifier at the end of the pipeline. The pipeline ordering is not efficient but an easy way to test the performance of the oos handling. \n",
    "\n",
    "To run the evaluation (on UBS data)\n",
    "1.  Split the positive UBS data into test and train sets. Negative examples are added to the training set during intent_2_stage training, but still need to be added to the testing set.\n",
    "2.  Train an interpreter.\n",
    "3.  Use make_test_set from intent_2_stage to append oos examples to the specified testing json file.\n",
    "4.  Run the evaluate.py script.\n",
    "\n",
    "*Note: make sure to check the source code of intent_2_stage to update if twitter/facebook files are being scraped"
   ]
  },
  {
   "cell_type": "code",
   "execution_count": 1,
   "metadata": {
    "collapsed": false
   },
   "outputs": [],
   "source": [
    "## The cell ensures that scripts are reimported if source code is changed\n",
    "%load_ext autoreload\n",
    "%autoreload 2"
   ]
  },
  {
   "cell_type": "code",
   "execution_count": 2,
   "metadata": {
    "collapsed": false
   },
   "outputs": [],
   "source": [
    "## Import required packages\n",
    "from __future__ import unicode_literals\n",
    "import logging, io, json\n",
    "from rasa_nlu.training_data import TrainingData\n",
    "from rasa_nlu.model import Interpreter, Trainer\n",
    "from rasa_nlu.config import RasaNLUConfig\n",
    "from rasa_nlu.converters import load_data\n",
    "from rasa_nlu.classifiers import sklearn_intent_classifier\n",
    "from rasa_nlu.classifiers import intent_2_stage\n",
    "from rasa_nlu.classifiers import intent_threshold\n",
    "from rasa_nlu.featurizers import spacy_featurizer\n",
    "\n",
    "def pprint(o):\n",
    "    print(json.dumps(o, indent=2))\n",
    "    \n",
    "logging.basicConfig(level=\"INFO\")"
   ]
  },
  {
   "cell_type": "code",
   "execution_count": 3,
   "metadata": {
    "collapsed": true
   },
   "outputs": [],
   "source": [
    "## Specify the processing pipeline\n",
    "model_config = {\n",
    "  \"pipeline\": [\"nlp_spacy\",\n",
    "               \"ner_spacy\",\n",
    "               \"intent_featurizer_spacy\",\n",
    "               \"intent_featurizer_ngrams\",\n",
    "               \"intent_classifier_sklearn\",\n",
    "               \"intent_2_stage\"],\n",
    "  \"language\": \"en\"\n",
    "}"
   ]
  },
  {
   "cell_type": "code",
   "execution_count": 4,
   "metadata": {
    "collapsed": false
   },
   "outputs": [
    {
     "data": {
      "text/plain": [
       "u'0.10.0a0'"
      ]
     },
     "execution_count": 4,
     "metadata": {},
     "output_type": "execute_result"
    }
   ],
   "source": [
    "import rasa_nlu\n",
    "\n",
    "rasa_nlu.__version__"
   ]
  },
  {
   "cell_type": "code",
   "execution_count": 5,
   "metadata": {
    "collapsed": false
   },
   "outputs": [],
   "source": [
    "## Partition ubs.ger.json into partial (only positive class data) test and training sets - step 1.\n",
    "import numpy as np\n",
    "\n",
    "s = 0.85\n",
    "in_path = '/home/sarenne/rasa_nlu/data/ubs.ger.json'\n",
    "out_path = '/home/sarenne/rasa_nlu/data/ubs'\n",
    "\n",
    "combined_intents_train = []\n",
    "combined_intents_test = []\n",
    "with open(in_path) as data_file:\n",
    "    intent_dict = json.load(data_file)['rasa_nlu_data']['common_examples']\n",
    "np.random.shuffle(intent_dict) # shuffle the utterences\n",
    "combined_intents_train.extend(intent_dict[:int(len(intent_dict)*s)])\n",
    "combined_intents_test.extend(intent_dict[int(len(intent_dict)*s):])\n",
    "\n",
    "with open(out_path + '_train.json', \"w\") as outfile:\n",
    "    json.dump({\"rasa_nlu_data\": {\"common_examples\":combined_intents_train}}, outfile, indent=2)\n",
    "with open(out_path + '_test.json', \"w\") as outfile:\n",
    "    json.dump({\"rasa_nlu_data\": {\"common_examples\":combined_intents_test}}, outfile, indent=2)\n"
   ]
  },
  {
   "cell_type": "code",
   "execution_count": 6,
   "metadata": {
    "collapsed": false,
    "scrolled": false
   },
   "outputs": [
    {
     "name": "stderr",
     "output_type": "stream",
     "text": [
      "INFO:rasa_nlu.utils.spacy_utils:Trying to load spacy model with name 'en'\n",
      "INFO:rasa_nlu.components:Added 'nlp_spacy' to component cache. Key 'nlp_spacy-en'.\n",
      "INFO:rasa_nlu.converters:Training data format at /home/sarenne/rasa_nlu/data/ubs_train.json is rasa_nlu\n",
      "INFO:rasa_nlu.training_data:Training data stats: \n",
      "\t- intent examples: 1728 (12 distinct intents)\n",
      "\t- found intents: 'ask_about_libor', 'enter_number', 'faq', 'handoff', 'mood_affirm', 'mood_deny', 'mood_goodbye', 'mood_greet', 'request_financial_calculation', 'request_financial_rules', 'retrieve_interest', 'thankyou'\n",
      "\t- entity examples: 0 (0 distinct entities)\n",
      "\t- found entities: \n",
      "\n",
      "INFO:rasa_nlu.model:Starting to train component nlp_spacy\n",
      "INFO:rasa_nlu.model:Finished training component.\n",
      "INFO:rasa_nlu.model:Starting to train component ner_spacy\n",
      "INFO:rasa_nlu.model:Finished training component.\n",
      "INFO:rasa_nlu.model:Starting to train component intent_featurizer_spacy\n",
      "INFO:rasa_nlu.model:Finished training component.\n",
      "INFO:rasa_nlu.model:Starting to train component intent_featurizer_ngrams\n",
      "INFO:rasa_nlu.featurizers.ngram_featurizer:Best score with 5 ngrams: 0.932326324195\n",
      "INFO:rasa_nlu.model:Finished training component.\n",
      "INFO:rasa_nlu.model:Starting to train component intent_classifier_sklearn\n"
     ]
    },
    {
     "name": "stdout",
     "output_type": "stream",
     "text": [
      "Fitting 2 folds for each of 6 candidates, totalling 12 fits\n"
     ]
    },
    {
     "name": "stderr",
     "output_type": "stream",
     "text": [
      "/home/sarenne/anaconda2/lib/python2.7/site-packages/sklearn/metrics/classification.py:1113: UndefinedMetricWarning: F-score is ill-defined and being set to 0.0 in labels with no predicted samples.\n",
      "  'precision', 'predicted', average, warn_for)\n",
      "[Parallel(n_jobs=1)]: Done  12 out of  12 | elapsed:   21.9s finished\n",
      "INFO:rasa_nlu.model:Finished training component.\n",
      "INFO:rasa_nlu.model:Starting to train component intent_2_stage\n"
     ]
    },
    {
     "name": "stdout",
     "output_type": "stream",
     "text": [
      "Fitting 3 folds for each of 6 candidates, totalling 18 fits\n"
     ]
    },
    {
     "name": "stderr",
     "output_type": "stream",
     "text": [
      "INFO:rasa_nlu.model:Finished training component.\n",
      "INFO:root:done\n"
     ]
    }
   ],
   "source": [
    "# Train NLU model - step 2.\n",
    "config = RasaNLUConfig(cmdline_args=model_config)\n",
    "config[\"negative_data_path\"] = \"/home/sarenne/twitter_dumper/Wissensbox_tweets.csv\"\n",
    "\n",
    "trainer = Trainer(config)\n",
    "training_data = load_data(\"/home/sarenne/rasa_nlu/data/ubs_train.json\")\n",
    "\n",
    "# run the training\n",
    "interpreter = trainer.train(training_data)\n",
    "logging.info(\"done\")"
   ]
  },
  {
   "cell_type": "code",
   "execution_count": 13,
   "metadata": {
    "collapsed": false
   },
   "outputs": [
    {
     "name": "stdout",
     "output_type": "stream",
     "text": [
      "{\n",
      "  \"entities\": [], \n",
      "  \"intent\": {\n",
      "    \"confidence\": 0.23947452532553254, \n",
      "    \"name\": \"faq\"\n",
      "  }, \n",
      "  \"text\": \"ich\", \n",
      "  \"intent_ranking\": [\n",
      "    {\n",
      "      \"confidence\": 0.23947452532553254, \n",
      "      \"name\": \"faq\"\n",
      "    }, \n",
      "    {\n",
      "      \"confidence\": 0.23644899086036755, \n",
      "      \"name\": \"request_financial_calculation\"\n",
      "    }, \n",
      "    {\n",
      "      \"confidence\": 0.14259304045387822, \n",
      "      \"name\": \"request_financial_rules\"\n",
      "    }, \n",
      "    {\n",
      "      \"confidence\": 0.06633427826502966, \n",
      "      \"name\": \"mood_deny\"\n",
      "    }, \n",
      "    {\n",
      "      \"confidence\": 0.0593926487221166, \n",
      "      \"name\": \"retrieve_interest\"\n",
      "    }, \n",
      "    {\n",
      "      \"confidence\": 0.055162306170420936, \n",
      "      \"name\": \"handoff\"\n",
      "    }, \n",
      "    {\n",
      "      \"confidence\": 0.05028493003956998, \n",
      "      \"name\": \"ask_about_libor\"\n",
      "    }, \n",
      "    {\n",
      "      \"confidence\": 0.04429019357333219, \n",
      "      \"name\": \"mood_affirm\"\n",
      "    }, \n",
      "    {\n",
      "      \"confidence\": 0.02858581733957056, \n",
      "      \"name\": \"enter_number\"\n",
      "    }, \n",
      "    {\n",
      "      \"confidence\": 0.0284693762493457, \n",
      "      \"name\": \"mood_greet\"\n",
      "    }\n",
      "  ]\n",
      "}\n"
     ]
    }
   ],
   "source": [
    "## Test the trained interpreter \n",
    "result = interpreter.parse(\n",
    "  \"ich\")\n",
    "pprint(result)"
   ]
  },
  {
   "cell_type": "code",
   "execution_count": 7,
   "metadata": {
    "collapsed": false
   },
   "outputs": [],
   "source": [
    "## Create the evalutation test set - step 3.\n",
    "I2S = intent_2_stage.Intent2Stage()\n",
    "I2S.make_test_set(\"/home/sarenne/rasa_nlu/data/ubs_test.json\", config)"
   ]
  },
  {
   "cell_type": "code",
   "execution_count": 8,
   "metadata": {
    "collapsed": false,
    "scrolled": true
   },
   "outputs": [
    {
     "name": "stdout",
     "output_type": "stream",
     "text": [
      "Intent Evaluation Results\n",
      "F1-Score:  0.854422744705\n",
      "Precision: 0.862402242566\n",
      "Accuracy:  0.85737704918\n",
      "Classification report: \n",
      "                               precision    recall  f1-score   support\n",
      "\n",
      "                 enter_number       0.25      1.00      0.40         2\n",
      "                          faq       0.81      0.93      0.87       269\n",
      "                      handoff       0.50      0.40      0.44         5\n",
      "                    mood_deny       0.00      0.00      0.00         2\n",
      "                 mood_goodbye       0.00      0.00      0.00         1\n",
      "                   mood_greet       0.00      0.00      0.00         0\n",
      "                 out_of_scope       0.94      0.85      0.89       305\n",
      "request_financial_calculation       0.67      0.29      0.40         7\n",
      "            retrieve_interest       0.82      0.53      0.64        17\n",
      "                     thankyou       0.00      0.00      0.00         2\n",
      "\n",
      "                  avg / total       0.86      0.86      0.85       610\n",
      "\n"
     ]
    },
    {
     "data": {
      "image/png": "[encoded data removed]",
      "text/plain": [
       "<matplotlib.figure.Figure at 0x7f2054a4e890>"
      ]
     },
     "metadata": {},
     "output_type": "display_data"
    }
   ],
   "source": [
    "## Run evaluation - step 4.\n",
    "from rasa_nlu.evaluate import run_intent_evaluation\n",
    "\n",
    "config[\"data\"] = \"/home/sarenne/rasa_nlu/data/ubs_test.json\"\n",
    "run_intent_evaluation(config, interpreter)"
   ]
  },
  {
   "cell_type": "code",
   "execution_count": null,
   "metadata": {
    "collapsed": false
   },
   "outputs": [],
   "source": []
  },
  {
   "cell_type": "code",
   "execution_count": null,
   "metadata": {
    "collapsed": true
   },
   "outputs": [],
   "source": []
  }
 ],
 "metadata": {
  "kernelspec": {
   "display_name": "Python 2",
   "language": "python",
   "name": "python2"
  },
  "language_info": {
   "codemirror_mode": {
    "name": "ipython",
    "version": 2
   },
   "file_extension": ".py",
   "mimetype": "text/x-python",
   "name": "python",
   "nbconvert_exporter": "python",
   "pygments_lexer": "ipython2",
   "version": "2.7.13"
  }
 },
 "nbformat": 4,
 "nbformat_minor": 2
}
